{
 "cells": [
  {
   "cell_type": "markdown",
   "metadata": {},
   "source": [
    "## Project Report"
   ]
  },
  {
   "cell_type": "markdown",
   "metadata": {},
   "source": [
    "## EDA OF SPECTRAL REFLECTANCE DATA of corn samples collected using hyperspectral imaging."
   ]
  },
  {
   "cell_type": "markdown",
   "metadata": {},
   "source": [
    "### **Dataset Overview**\n",
    "The dataset provided contains **spectral reflectance data** of **corn samples** collected using **hyperspectral imaging**. The goal is to predict **DON concentration** (vomitoxin levels) in corn using machine learning.\n",
    "\n",
    "---\n",
    "\n",
    "### **Dataset Structure**\n",
    "- **Rows (Samples)**: Each row represents a **single corn sample**.\n",
    "- **Columns (Features)**:\n",
    "  1. **\"hsi_id\"** (Column 1) → A unique identifier for each sample.\n",
    "  2. **448 Spectral Reflectance Features** (Columns 2 to 449) →  \n",
    "     - These columns contain **reflectance values** at different **wavelength bands**.\n",
    "     - The values range between **0.26 and 0.95**.\n",
    "  3. **\"vomitoxin_ppb\"** (Column 450) → **Target Variable**  \n",
    "     - Represents the **DON concentration (in ppb)** for each sample.\n",
    "     - Values range from **0 ppb** to **131,000 ppb**.\n",
    "\n",
    "---\n",
    "\n",
    "### **Understanding Spectral Reflectance Features**\n",
    "- The **448 spectral features** correspond to reflectance values recorded at different **wavelength bands**.\n",
    "- Reflectance is the proportion of **light reflected** by the corn sample at specific wavelengths.\n",
    "- These features help detect chemical properties related to **DON contamination**.\n",
    "\n",
    "---\n",
    "\n",
    "### **Target Variable: DON Concentration (`vomitoxin_ppb`)**\n",
    "- DON (**Deoxynivalenol**) is a **toxic mycotoxin** produced by fungi in corn.\n",
    "- High DON levels indicate **contaminated corn**, which is dangerous for **human and animal consumption**.\n",
    "- The task is to **predict DON concentration** based on spectral features.\n",
    "\n",
    "---"
   ]
  },
  {
   "cell_type": "markdown",
   "metadata": {},
   "source": [
    "## Workflow\n",
    "- ### **EDA & Feature Engineering**\n",
    "    - During EDA We observe that in our data set No missing value present \n",
    "    - I also checked Summary Statistics of the spectral data of given data set\n",
    "    - During EDA I observe that my data set contain several number of Outlier present..total number of outlier is 80\n",
    "    - This is one of the challange I have faced that is to handle this outlier\n",
    "    - I have uses IQR method to remove the outlier\n",
    "    - Then I have applied Standarization and Normalization on the Spectral data && Visualize spectral bands\n",
    "    - I tried to visualize spectral reflectance curves for random corn samples across multiple wavelength bands.\n",
    "      The curves indicate variation in reflectance values, which may be useful for distinguishing samples with different DON concentrations.\n",
    "    - I tried to Visualize Heatmap of the spectral reflectance values\n",
    "- ### **Dimensionality Reduction**\n",
    "    - Applied PCA(Principle Component Analysis) to reduce dimension\n",
    "        - applied PCA Two time step by step\n",
    "            - in 1st part tried to convert 448 bands into 2 dimension and visualize the reduce data in scatter plot\n",
    "            - in 2nd part tried to convert 448 bands into 3 dimension and visualize the reduce data in scatter plot\n",
    "- ### **Training && Evaluation**\n",
    "    - **Apllied Train Test Split to Split the dataset into training (e.g., 80%) and testing (e.g., 20%) sets.**\n",
    "    - **Build Different types of  Regressor Model  with hyperparameter tunning** \n",
    "        - ### **Build a model by using RandomForestRegresion algorithom with hyperparameter Tunning by Random Search**\n",
    "            - train my model with my train data set and Evaluate model by test data\n",
    "                - Evaluation Result && Best Parameter\n",
    "                ~~~\n",
    "                Best Parameters: {'n_estimators': 50, 'min_samples_split': 5, 'min_samples_leaf': 2, 'max_features': 'log2', 'max_depth': 30}\n",
    "                MAE: 808.48, RMSE: 1059.98, R²: 0.43\n",
    "                ~~~\n",
    "                - draw Scatter plot of actual vs. predicted values (regression).\n",
    "        - ### **Build a model by using FCNN(Fully Connected Neural Network) algorithom with hyperparameter by Random Search**\n",
    "            - train my model with my train data set but Here during train test split I used 3 dim pca spectral data as a train data and Evaluate model by test data\n",
    "                - Evaluation Result && Best Parameter\n",
    "                ~~~\n",
    "                Best Hyperparameters: {'neurons': 64, 'learning_rate': 0.01, 'layers': 5, 'epochs': 50, 'dropout_rate': 0.3, 'batch_size': 32, 'activation': 'relu'}\n",
    "                MAE: 683.48, RMSE: 1004.29, R²: 0.49, Loss: 1008591.75\n",
    "                ~~~\n",
    "                - draw Scatter plot of actual vs. predicted values (regression).\n",
    "        - ### **Build a model by using CNN(Convoluton Neural Network) using conv2D with hyperparameter tunning by Random Search**\n",
    "            - train my model with my train data set and Evaluate model by test data\n",
    "                - Evaluation Result && Best Parameter\n",
    "                ~~~\n",
    "                Best Hyperparameters: {'learning_rate': 0.01, 'kernel_size': (3, 3), 'filters2': 128, 'filters1': 32, 'epochs': 150, 'dropout_rate': 0.2, 'dense_units': 64, 'batch_size': 32, 'activation': 'relu'}\n",
    "                MAE: 803.63, RMSE: 1088.68, R²: 0.40, Loss: 1185222.25\n",
    "                ~~~\n",
    "                - draw Scatter plot of actual vs. predicted values (regression).\n",
    "        - ### **Build a model by using CNN(Convoluton Neural Network) using conv1D with hyperparameter tunning by Random Search**\n",
    "            - train my model with my train data set and Evaluate model by test data\n",
    "                - Evaluation Result && Best Parameter\n",
    "                ~~~\n",
    "                Best Hyperparameters: {'learning_rate': 0.01, 'kernel_size': 3, 'filters2': 64, 'filters1': 64, 'epochs': 150, 'dropout_rate': 0.3, 'dense_units': 64, 'batch_size': 64, 'activation': 'relu'}\n",
    "                MAE: 879.82, RMSE: 1104.67, R²: 0.38, Loss: 1220300.12\n",
    "                ~~~\n",
    "                - draw Scatter plot of actual vs. predicted values (regression).\n",
    "        - ### **Build a model of LSTM with hyperparameter tunning by Random Search**\n",
    "            - train my model with my train data set but Here during train test split I used 3 dim pca spectral data as a train data and Evaluate model by test data\n",
    "                - Evaluation Result && Best Parameter\n",
    "                ~~~\n",
    "                Best Parameters: {'units': 128, 'learning_rate': 0.01, 'epochs': 150, 'dropout_rate': 0.4, 'batch_size': 64, 'activation': 'relu'}\n",
    "\n",
    "                    Model Performance:\n",
    "                    MAE: 745.6035\n",
    "                    RMSE: 1069.6852\n",
    "                    R² Score: 0.4171\n",
    "                    Loss: 1144226.5000\n",
    "                ~~~\n",
    "                - draw Scatter plot of actual vs. predicted values (regression).\n",
    "- ### **Conclusion && Key findings and suggestions for improvement.**\n",
    "    - **after performing training testing of dataset by using several model with hyperparameter tunning . I can reached in the conclusion that FCNN perform better among others model..though Accuracy can further improved by increasing complexity , no of epochs , batch size etc.**\n",
    "        "
   ]
  },
  {
   "cell_type": "markdown",
   "metadata": {},
   "source": []
  },
  {
   "cell_type": "markdown",
   "metadata": {},
   "source": []
  },
  {
   "cell_type": "markdown",
   "metadata": {},
   "source": []
  },
  {
   "cell_type": "markdown",
   "metadata": {},
   "source": []
  },
  {
   "cell_type": "markdown",
   "metadata": {},
   "source": []
  },
  {
   "cell_type": "markdown",
   "metadata": {},
   "source": []
  },
  {
   "cell_type": "markdown",
   "metadata": {},
   "source": []
  }
 ],
 "metadata": {
  "language_info": {
   "name": "python"
  }
 },
 "nbformat": 4,
 "nbformat_minor": 2
}
